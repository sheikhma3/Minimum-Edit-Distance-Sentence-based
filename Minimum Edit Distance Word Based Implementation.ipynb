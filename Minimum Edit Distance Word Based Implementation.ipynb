{
 "cells": [
  {
   "cell_type": "code",
   "execution_count": 1,
   "metadata": {
    "collapsed": true
   },
   "outputs": [],
   "source": [
    "import numpy as np"
   ]
  },
  {
   "cell_type": "code",
   "execution_count": 1,
   "metadata": {
    "collapsed": true,
    "scrolled": true
   },
   "outputs": [],
   "source": [
    "del_cost=1\n",
    "ins_cost=1\n",
    "sub_cost=2"
   ]
  },
  {
   "cell_type": "code",
   "execution_count": 2,
   "metadata": {
    "collapsed": true
   },
   "outputs": [],
   "source": [
    "def Calculate_Minimum_edit_distance(source,target):\n",
    "    source =source.split(' ')\n",
    "    target =target.split(' ')\n",
    "    n= len(source)\n",
    "    m= len(target)\n",
    "    MED_Matrix= np.zeros((n+1,m+1), dtype='int32')\n",
    "    for i in range(1,n+1):\n",
    "        MED_Matrix[i][0]=MED_Matrix[i-1][0]+del_cost\n",
    "    for i in range(1,m+1):\n",
    "        MED_Matrix[0][i]=MED_Matrix[0][i-1]+del_cost   \n",
    "    for i in range(1,n+1):\n",
    "        for j in range(1,m+1):\n",
    "            if(source[i-1]==target[j-1]):\n",
    "                MED_Matrix[i][j]=min([MED_Matrix[i-1][j]+del_cost,MED_Matrix[i-1][j-1]+0,MED_Matrix[i][j-1]+ins_cost])\n",
    "            else:\n",
    "                MED_Matrix[i][j]=min([MED_Matrix[i-1][j]+del_cost,MED_Matrix[i-1][j-1]+sub_cost,MED_Matrix[i][j-1]+ins_cost])\n",
    "    #print(np.matrix(MED_Matrix))\n",
    "    #print(MED_Matrix[n][m])\n",
    "    return MED_Matrix[n][m]"
   ]
  },
  {
   "cell_type": "code",
   "execution_count": 6,
   "metadata": {},
   "outputs": [
    {
     "data": {
      "text/plain": [
       "4"
      ]
     },
     "execution_count": 6,
     "metadata": {},
     "output_type": "execute_result"
    }
   ],
   "source": [
    "Calculate_Minimum_edit_distance('This is a cat','That is a dog')"
   ]
  }
 ],
 "metadata": {
  "kernelspec": {
   "display_name": "Python 3",
   "language": "python",
   "name": "python3"
  },
  "language_info": {
   "codemirror_mode": {
    "name": "ipython",
    "version": 3
   },
   "file_extension": ".py",
   "mimetype": "text/x-python",
   "name": "python",
   "nbconvert_exporter": "python",
   "pygments_lexer": "ipython3",
   "version": "3.6.8"
  }
 },
 "nbformat": 4,
 "nbformat_minor": 2
}
